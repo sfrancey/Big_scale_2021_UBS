{
  "nbformat": 4,
  "nbformat_minor": 0,
  "metadata": {
    "colab": {
      "name": "UBS.ipynb",
      "provenance": [],
      "authorship_tag": "ABX9TyPU6UjAXbQN1KqPjPf0i2Xn",
      "include_colab_link": true
    },
    "kernelspec": {
      "name": "python3",
      "display_name": "Python 3"
    },
    "language_info": {
      "name": "python"
    }
  },
  "cells": [
    {
      "cell_type": "markdown",
      "metadata": {
        "id": "view-in-github",
        "colab_type": "text"
      },
      "source": [
        "<a href=\"https://colab.research.google.com/github/gflourac/Big_scale_2021_UBS/blob/main/code/UBS.ipynb\" target=\"_parent\"><img src=\"https://colab.research.google.com/assets/colab-badge.svg\" alt=\"Open In Colab\"/></a>"
      ]
    },
    {
      "cell_type": "markdown",
      "metadata": {
        "id": "WmuHNsGZv5uP"
      },
      "source": [
        "#Big Scale Analytics Project - Group UBS#\n",
        "###HEC Lausanne, Spring 2021###"
      ]
    },
    {
      "cell_type": "markdown",
      "metadata": {
        "id": "gaQ5MWUXwRff"
      },
      "source": [
        ""
      ]
    },
    {
      "cell_type": "code",
      "metadata": {
        "id": "y98SXN8_wSNE"
      },
      "source": [
        ""
      ],
      "execution_count": null,
      "outputs": []
    }
  ]
}